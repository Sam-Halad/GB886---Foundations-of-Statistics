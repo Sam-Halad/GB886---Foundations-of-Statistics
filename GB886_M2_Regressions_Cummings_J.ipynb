{
  "nbformat": 4,
  "nbformat_minor": 0,
  "metadata": {
    "colab": {
      "provenance": []
    },
    "kernelspec": {
      "name": "python3",
      "display_name": "Python 3"
    },
    "language_info": {
      "name": "python"
    }
  },
  "cells": [
    {
      "cell_type": "code",
      "execution_count": null,
      "metadata": {
        "id": "mbrynBWcht85"
      },
      "outputs": [],
      "source": [
        "import numpy as np\n",
        "import matplotlib.pyplot as plt\n",
        "import pandas as pd\n",
        "import statsmodels.api as sm"
      ]
    },
    {
      "cell_type": "code",
      "source": [
        "#load the data into a dataframe\n",
        "wages=pd.read_csv('https://raw.githubusercontent.com/danielbauer1979/MSDIA_PredictiveModelingAndMachineLearning/refs/heads/main/GB886_II_9_Wages_1985_Current_Population_Survey.csv')\n",
        "wages.info()"
      ],
      "metadata": {
        "colab": {
          "base_uri": "https://localhost:8080/"
        },
        "id": "GsXTMXcEh5mu",
        "outputId": "ac32824c-410c-49b2-a932-3da792a9284d"
      },
      "execution_count": null,
      "outputs": [
        {
          "output_type": "stream",
          "name": "stdout",
          "text": [
            "<class 'pandas.core.frame.DataFrame'>\n",
            "RangeIndex: 534 entries, 0 to 533\n",
            "Data columns (total 11 columns):\n",
            " #   Column      Non-Null Count  Dtype  \n",
            "---  ------      --------------  -----  \n",
            " 0   Yrs_Ed      534 non-null    int64  \n",
            " 1   Sthrn_Rgn   534 non-null    int64  \n",
            " 2   Sex         534 non-null    int64  \n",
            " 3   Yrs_Exprnc  534 non-null    int64  \n",
            " 4   Union       534 non-null    int64  \n",
            " 5   Wage        534 non-null    float64\n",
            " 6   Age         534 non-null    int64  \n",
            " 7   Race        534 non-null    object \n",
            " 8   Occup       534 non-null    object \n",
            " 9   Sect        534 non-null    object \n",
            " 10  Marr        534 non-null    int64  \n",
            "dtypes: float64(1), int64(7), object(3)\n",
            "memory usage: 46.0+ KB\n"
          ]
        }
      ]
    },
    {
      "cell_type": "code",
      "source": [
        "#find numerical variables\n",
        "numerical=list(wages.select_dtypes(include=['int64','float64']).columns)\n",
        "#find categorical variables\n",
        "categorical = list(wages.select_dtypes(include=['object']).columns)\n",
        "#separate numerical and categorical variables\n",
        "wages_numerical = wages[numerical]\n",
        "wages_categorical = wages[categorical]\n",
        "print(\"Numerical columns:\",numerical)\n",
        "print(\"Categorical Columns:\", categorical)"
      ],
      "metadata": {
        "colab": {
          "base_uri": "https://localhost:8080/"
        },
        "id": "9gvWnDZAk4Hq",
        "outputId": "3eb0f294-be0c-4411-f927-59d2bd5d0fd8"
      },
      "execution_count": null,
      "outputs": [
        {
          "output_type": "stream",
          "name": "stdout",
          "text": [
            "Numerical columns: ['Yrs_Ed', 'Sthrn_Rgn', 'Sex', 'Yrs_Exprnc', 'Union', 'Wage', 'Age', 'Marr']\n",
            "Categorical Columns: ['Race', 'Occup', 'Sect']\n"
          ]
        }
      ]
    },
    {
      "cell_type": "code",
      "source": [
        "#create dummies\n",
        "dummies = pd.get_dummies(wages_categorical, drop_first=True)\n",
        "print(dummies)"
      ],
      "metadata": {
        "colab": {
          "base_uri": "https://localhost:8080/"
        },
        "id": "ndzHzIF3rR2n",
        "outputId": "5df0f750-5ae4-46d4-d358-86069fa263fe"
      },
      "execution_count": null,
      "outputs": [
        {
          "output_type": "stream",
          "name": "stdout",
          "text": [
            "     Race_O  Race_W  Occup_Mngmnt  Occup_Other  Occup_Prof  Occup_Sales  \\\n",
            "0     False   False         False         True       False        False   \n",
            "1     False    True         False         True       False        False   \n",
            "2     False    True         False         True       False        False   \n",
            "3     False    True         False         True       False        False   \n",
            "4     False    True         False         True       False        False   \n",
            "..      ...     ...           ...          ...         ...          ...   \n",
            "529   False    True         False        False        True        False   \n",
            "530    True   False         False        False        True        False   \n",
            "531    True   False         False        False        True        False   \n",
            "532   False    True         False        False        True        False   \n",
            "533   False    True         False        False        True        False   \n",
            "\n",
            "     Occup_Service  Sect_Manf  Sect_Other  \n",
            "0            False       True       False  \n",
            "1            False       True       False  \n",
            "2            False       True       False  \n",
            "3            False      False        True  \n",
            "4            False      False        True  \n",
            "..             ...        ...         ...  \n",
            "529          False      False        True  \n",
            "530          False      False        True  \n",
            "531          False      False        True  \n",
            "532          False      False        True  \n",
            "533          False       True       False  \n",
            "\n",
            "[534 rows x 9 columns]\n"
          ]
        }
      ]
    },
    {
      "cell_type": "code",
      "source": [
        "# combine numerical and dummies\n",
        "wages_cleaned = pd.concat([wages_numerical, dummies], axis=1)\n",
        "print(\"wages_cleaned data:\",wages_cleaned.head())"
      ],
      "metadata": {
        "colab": {
          "base_uri": "https://localhost:8080/"
        },
        "id": "UJC2vSs2qi5g",
        "outputId": "d74ee04c-6240-4735-dd48-a7e900af2e40"
      },
      "execution_count": null,
      "outputs": [
        {
          "output_type": "stream",
          "name": "stdout",
          "text": [
            "wages_cleaned data:    Yrs_Ed  Sthrn_Rgn  Sex  Yrs_Exprnc  Union  Wage  Age  Marr  Race_O  Race_W  \\\n",
            "0       8          0    1          21      0  5.10   35     1   False   False   \n",
            "1       9          0    1          42      0  4.95   57     1   False    True   \n",
            "2      12          0    0           1      0  6.67   19     0   False    True   \n",
            "3      12          0    0           4      0  4.00   22     0   False    True   \n",
            "4      12          0    0          17      0  7.50   35     1   False    True   \n",
            "\n",
            "   Occup_Mngmnt  Occup_Other  Occup_Prof  Occup_Sales  Occup_Service  \\\n",
            "0         False         True       False        False          False   \n",
            "1         False         True       False        False          False   \n",
            "2         False         True       False        False          False   \n",
            "3         False         True       False        False          False   \n",
            "4         False         True       False        False          False   \n",
            "\n",
            "   Sect_Manf  Sect_Other  \n",
            "0       True       False  \n",
            "1       True       False  \n",
            "2       True       False  \n",
            "3      False        True  \n",
            "4      False        True  \n"
          ]
        }
      ]
    },
    {
      "cell_type": "code",
      "source": [
        "#separate features and outcome\n",
        "y=wages_cleaned['Wage']\n",
        "x=wages_cleaned.drop(columns=['Wage'])"
      ],
      "metadata": {
        "id": "mkGaZzcWnyKI"
      },
      "execution_count": null,
      "outputs": []
    },
    {
      "cell_type": "code",
      "source": [
        "#add constant\n",
        "X=sm.add_constant(x)\n",
        "#fit model\n",
        "model_sm=sm.OLS(y,X.astype(float)).fit()\n",
        "print(model_sm.summary())"
      ],
      "metadata": {
        "colab": {
          "base_uri": "https://localhost:8080/"
        },
        "id": "dkO0sEFIoglq",
        "outputId": "e428491d-575d-44e0-ed34-a84af0debc92"
      },
      "execution_count": null,
      "outputs": [
        {
          "output_type": "stream",
          "name": "stdout",
          "text": [
            "                            OLS Regression Results                            \n",
            "==============================================================================\n",
            "Dep. Variable:                   Wage   R-squared:                       0.326\n",
            "Model:                            OLS   Adj. R-squared:                  0.306\n",
            "Method:                 Least Squares   F-statistic:                     15.66\n",
            "Date:                Sun, 12 Oct 2025   Prob (F-statistic):           3.02e-35\n",
            "Time:                        18:58:20   Log-Likelihood:                -1525.8\n",
            "No. Observations:                 534   AIC:                             3086.\n",
            "Df Residuals:                     517   BIC:                             3158.\n",
            "Df Model:                          16                                         \n",
            "Covariance Type:            nonrobust                                         \n",
            "=================================================================================\n",
            "                    coef    std err          t      P>|t|      [0.025      0.975]\n",
            "---------------------------------------------------------------------------------\n",
            "const            -0.2814      6.741     -0.042      0.967     -13.525      12.962\n",
            "Yrs_Ed            0.8128      1.087      0.748      0.455      -1.322       2.948\n",
            "Sthrn_Rgn        -0.5627      0.420     -1.340      0.181      -1.388       0.262\n",
            "Sex              -1.9425      0.419     -4.631      0.000      -2.767      -1.119\n",
            "Yrs_Exprnc        0.2448      1.082      0.226      0.821      -1.880       2.370\n",
            "Union             1.6017      0.513      3.124      0.002       0.594       2.609\n",
            "Age              -0.1580      1.081     -0.146      0.884      -2.282       1.965\n",
            "Marr              0.3005      0.411      0.731      0.465      -0.507       1.108\n",
            "Race_O           -0.2314      0.992     -0.233      0.816      -2.179       1.717\n",
            "Race_W            0.6065      0.870      0.697      0.486      -1.102       2.315\n",
            "Occup_Mngmnt      3.2682      0.763      4.286      0.000       1.770       4.766\n",
            "Occup_Other      -0.0223      0.686     -0.033      0.974      -1.370       1.325\n",
            "Occup_Prof        1.9346      0.670      2.886      0.004       0.617       3.252\n",
            "Occup_Sales      -0.7956      0.838     -0.949      0.343      -2.442       0.851\n",
            "Occup_Service    -0.7072      0.663     -1.066      0.287      -2.010       0.596\n",
            "Sect_Manf         0.5635      0.992      0.568      0.570      -1.384       2.511\n",
            "Sect_Other       -0.4774      0.966     -0.494      0.621      -2.375       1.421\n",
            "==============================================================================\n",
            "Omnibus:                      244.027   Durbin-Watson:                   2.010\n",
            "Prob(Omnibus):                  0.000   Jarque-Bera (JB):             2320.734\n",
            "Skew:                           1.756   Prob(JB):                         0.00\n",
            "Kurtosis:                      12.590   Cond. No.                     1.72e+03\n",
            "==============================================================================\n",
            "\n",
            "Notes:\n",
            "[1] Standard Errors assume that the covariance matrix of the errors is correctly specified.\n",
            "[2] The condition number is large, 1.72e+03. This might indicate that there are\n",
            "strong multicollinearity or other numerical problems.\n"
          ]
        }
      ]
    },
    {
      "cell_type": "code",
      "source": [
        "#get predictions using numpy\n",
        "y_pred=model_sm.predict(X)\n",
        "r_squared = model_sm.rsquared\n",
        "print(f\"R-squared:{r_squared:.4f}\")\n",
        "rmse = np.sqrt(mean_squared_error(y, y_pred))\n",
        "print(f\"RMSE:${rmse:.2f}\")\n",
        "mae = mean_absolute_error(y, y_pred)\n",
        "print(f\"MAE:${mae:.2f}\")\n",
        "mape = np.mean(np.abs((y - y_pred) / y)) * 100\n",
        "print(f\"MAPE:{mape:.2f}%\")"
      ],
      "metadata": {
        "colab": {
          "base_uri": "https://localhost:8080/"
        },
        "id": "l764uP1ytg6S",
        "outputId": "c2c0eb99-d742-4a06-ac39-c717f95f6165"
      },
      "execution_count": null,
      "outputs": [
        {
          "output_type": "stream",
          "name": "stdout",
          "text": [
            "R-squared:0.3265\n",
            "RMSE:$4.21\n",
            "MAE:$2.99\n",
            "MAPE:40.69%\n"
          ]
        }
      ]
    },
    {
      "cell_type": "markdown",
      "source": [
        "Model Discussion:\n",
        "The regression model achieved an R-Squared value of 0.3265 meaning roughly only 33% of variance in wages is explained in the model. The RMSE of $4.21 and MAE of $2.99 show normal prediction error. The MAPE of 40.69% suggests predictions are off by 40% meaning this model has lots error.\n",
        "\n",
        "Use Cases: This model would be useful for initial policy anaysis regarding Union membership, discriminatory wage patterns amongst sexes, and career choice selection.\n",
        "\n",
        "Problematic Conclusions:\n",
        "We cannot determine causation from the data. The low R-Squared value shows roughly 67% of wage variation unexplained in the model. The model is also missing feature variables such as location, company size, lenght of tenure etc. The dummy variables may oversimplify ."
      ],
      "metadata": {
        "id": "WR5ktSM4u9gx"
      }
    }
  ]
}