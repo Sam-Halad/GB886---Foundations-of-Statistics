{
  "nbformat": 4,
  "nbformat_minor": 0,
  "metadata": {
    "colab": {
      "provenance": []
    },
    "kernelspec": {
      "name": "python3",
      "display_name": "Python 3"
    },
    "language_info": {
      "name": "python"
    }
  },
  "cells": [
    {
      "cell_type": "markdown",
      "source": [
        "We are given ten years of data from Major League Baseball and are tasked with created a GLM model to predict the number of runs scored by home teams. We are asked to calculate correlation between our prediction and actual outcomes and provide a scatterplot. Finally, we must pick a random game in the 2017 season and use our model to predict how many runs are expcted to be scored."
      ],
      "metadata": {
        "id": "tlWP-S5eD4v9"
      }
    },
    {
      "cell_type": "code",
      "execution_count": null,
      "metadata": {
        "id": "JydzgIl7DTga"
      },
      "outputs": [],
      "source": [
        "import numpy as np\n",
        "import pandas as pd\n",
        "import matplotlib.pyplot as plt\n",
        "from sklearn.model_selection import train_test_split\n",
        "from sklearn.linear_model import PoissonRegressor\n",
        "from sklearn.linear_model import GammaRegressor"
      ]
    },
    {
      "cell_type": "code",
      "source": [
        "baseball = pd.read_csv('/content/GB886_III_9_BBallLogs.csv')\n",
        "\n",
        "baseball.head(5)"
      ],
      "metadata": {
        "colab": {
          "base_uri": "https://localhost:8080/",
          "height": 206
        },
        "id": "PANlYBcNDbf-",
        "outputId": "23a27516-beff-492a-df77-218aecf54747"
      },
      "execution_count": null,
      "outputs": [
        {
          "output_type": "execute_result",
          "data": {
            "text/plain": [
              "   Year  Month  Day day_of_week h_name  h_game_number  h_wins v_name  \\\n",
              "0  2006      4    2         Sun    CHA              1       0    CLE   \n",
              "1  2006      4    3         Mon    BAL              1       0    TBA   \n",
              "2  2006      4    3         Mon    KCA              1       0    DET   \n",
              "3  2006      4    3         Mon    OAK              1       0    NYA   \n",
              "4  2006      4    3         Mon    SEA              1       0    ANA   \n",
              "\n",
              "   v_game_number  v_wins  h_score  v_score  \n",
              "0              1       0       10        4  \n",
              "1              1       0        9        6  \n",
              "2              1       0        1        3  \n",
              "3              1       0        2       15  \n",
              "4              1       0        4        5  "
            ],
            "text/html": [
              "\n",
              "  <div id=\"df-07ee8ce6-6f7c-4158-9615-0097aa71db9d\" class=\"colab-df-container\">\n",
              "    <div>\n",
              "<style scoped>\n",
              "    .dataframe tbody tr th:only-of-type {\n",
              "        vertical-align: middle;\n",
              "    }\n",
              "\n",
              "    .dataframe tbody tr th {\n",
              "        vertical-align: top;\n",
              "    }\n",
              "\n",
              "    .dataframe thead th {\n",
              "        text-align: right;\n",
              "    }\n",
              "</style>\n",
              "<table border=\"1\" class=\"dataframe\">\n",
              "  <thead>\n",
              "    <tr style=\"text-align: right;\">\n",
              "      <th></th>\n",
              "      <th>Year</th>\n",
              "      <th>Month</th>\n",
              "      <th>Day</th>\n",
              "      <th>day_of_week</th>\n",
              "      <th>h_name</th>\n",
              "      <th>h_game_number</th>\n",
              "      <th>h_wins</th>\n",
              "      <th>v_name</th>\n",
              "      <th>v_game_number</th>\n",
              "      <th>v_wins</th>\n",
              "      <th>h_score</th>\n",
              "      <th>v_score</th>\n",
              "    </tr>\n",
              "  </thead>\n",
              "  <tbody>\n",
              "    <tr>\n",
              "      <th>0</th>\n",
              "      <td>2006</td>\n",
              "      <td>4</td>\n",
              "      <td>2</td>\n",
              "      <td>Sun</td>\n",
              "      <td>CHA</td>\n",
              "      <td>1</td>\n",
              "      <td>0</td>\n",
              "      <td>CLE</td>\n",
              "      <td>1</td>\n",
              "      <td>0</td>\n",
              "      <td>10</td>\n",
              "      <td>4</td>\n",
              "    </tr>\n",
              "    <tr>\n",
              "      <th>1</th>\n",
              "      <td>2006</td>\n",
              "      <td>4</td>\n",
              "      <td>3</td>\n",
              "      <td>Mon</td>\n",
              "      <td>BAL</td>\n",
              "      <td>1</td>\n",
              "      <td>0</td>\n",
              "      <td>TBA</td>\n",
              "      <td>1</td>\n",
              "      <td>0</td>\n",
              "      <td>9</td>\n",
              "      <td>6</td>\n",
              "    </tr>\n",
              "    <tr>\n",
              "      <th>2</th>\n",
              "      <td>2006</td>\n",
              "      <td>4</td>\n",
              "      <td>3</td>\n",
              "      <td>Mon</td>\n",
              "      <td>KCA</td>\n",
              "      <td>1</td>\n",
              "      <td>0</td>\n",
              "      <td>DET</td>\n",
              "      <td>1</td>\n",
              "      <td>0</td>\n",
              "      <td>1</td>\n",
              "      <td>3</td>\n",
              "    </tr>\n",
              "    <tr>\n",
              "      <th>3</th>\n",
              "      <td>2006</td>\n",
              "      <td>4</td>\n",
              "      <td>3</td>\n",
              "      <td>Mon</td>\n",
              "      <td>OAK</td>\n",
              "      <td>1</td>\n",
              "      <td>0</td>\n",
              "      <td>NYA</td>\n",
              "      <td>1</td>\n",
              "      <td>0</td>\n",
              "      <td>2</td>\n",
              "      <td>15</td>\n",
              "    </tr>\n",
              "    <tr>\n",
              "      <th>4</th>\n",
              "      <td>2006</td>\n",
              "      <td>4</td>\n",
              "      <td>3</td>\n",
              "      <td>Mon</td>\n",
              "      <td>SEA</td>\n",
              "      <td>1</td>\n",
              "      <td>0</td>\n",
              "      <td>ANA</td>\n",
              "      <td>1</td>\n",
              "      <td>0</td>\n",
              "      <td>4</td>\n",
              "      <td>5</td>\n",
              "    </tr>\n",
              "  </tbody>\n",
              "</table>\n",
              "</div>\n",
              "    <div class=\"colab-df-buttons\">\n",
              "\n",
              "  <div class=\"colab-df-container\">\n",
              "    <button class=\"colab-df-convert\" onclick=\"convertToInteractive('df-07ee8ce6-6f7c-4158-9615-0097aa71db9d')\"\n",
              "            title=\"Convert this dataframe to an interactive table.\"\n",
              "            style=\"display:none;\">\n",
              "\n",
              "  <svg xmlns=\"http://www.w3.org/2000/svg\" height=\"24px\" viewBox=\"0 -960 960 960\">\n",
              "    <path d=\"M120-120v-720h720v720H120Zm60-500h600v-160H180v160Zm220 220h160v-160H400v160Zm0 220h160v-160H400v160ZM180-400h160v-160H180v160Zm440 0h160v-160H620v160ZM180-180h160v-160H180v160Zm440 0h160v-160H620v160Z\"/>\n",
              "  </svg>\n",
              "    </button>\n",
              "\n",
              "  <style>\n",
              "    .colab-df-container {\n",
              "      display:flex;\n",
              "      gap: 12px;\n",
              "    }\n",
              "\n",
              "    .colab-df-convert {\n",
              "      background-color: #E8F0FE;\n",
              "      border: none;\n",
              "      border-radius: 50%;\n",
              "      cursor: pointer;\n",
              "      display: none;\n",
              "      fill: #1967D2;\n",
              "      height: 32px;\n",
              "      padding: 0 0 0 0;\n",
              "      width: 32px;\n",
              "    }\n",
              "\n",
              "    .colab-df-convert:hover {\n",
              "      background-color: #E2EBFA;\n",
              "      box-shadow: 0px 1px 2px rgba(60, 64, 67, 0.3), 0px 1px 3px 1px rgba(60, 64, 67, 0.15);\n",
              "      fill: #174EA6;\n",
              "    }\n",
              "\n",
              "    .colab-df-buttons div {\n",
              "      margin-bottom: 4px;\n",
              "    }\n",
              "\n",
              "    [theme=dark] .colab-df-convert {\n",
              "      background-color: #3B4455;\n",
              "      fill: #D2E3FC;\n",
              "    }\n",
              "\n",
              "    [theme=dark] .colab-df-convert:hover {\n",
              "      background-color: #434B5C;\n",
              "      box-shadow: 0px 1px 3px 1px rgba(0, 0, 0, 0.15);\n",
              "      filter: drop-shadow(0px 1px 2px rgba(0, 0, 0, 0.3));\n",
              "      fill: #FFFFFF;\n",
              "    }\n",
              "  </style>\n",
              "\n",
              "    <script>\n",
              "      const buttonEl =\n",
              "        document.querySelector('#df-07ee8ce6-6f7c-4158-9615-0097aa71db9d button.colab-df-convert');\n",
              "      buttonEl.style.display =\n",
              "        google.colab.kernel.accessAllowed ? 'block' : 'none';\n",
              "\n",
              "      async function convertToInteractive(key) {\n",
              "        const element = document.querySelector('#df-07ee8ce6-6f7c-4158-9615-0097aa71db9d');\n",
              "        const dataTable =\n",
              "          await google.colab.kernel.invokeFunction('convertToInteractive',\n",
              "                                                    [key], {});\n",
              "        if (!dataTable) return;\n",
              "\n",
              "        const docLinkHtml = 'Like what you see? Visit the ' +\n",
              "          '<a target=\"_blank\" href=https://colab.research.google.com/notebooks/data_table.ipynb>data table notebook</a>'\n",
              "          + ' to learn more about interactive tables.';\n",
              "        element.innerHTML = '';\n",
              "        dataTable['output_type'] = 'display_data';\n",
              "        await google.colab.output.renderOutput(dataTable, element);\n",
              "        const docLink = document.createElement('div');\n",
              "        docLink.innerHTML = docLinkHtml;\n",
              "        element.appendChild(docLink);\n",
              "      }\n",
              "    </script>\n",
              "  </div>\n",
              "\n",
              "\n",
              "    <div id=\"df-6ecfc5d2-748a-49df-8253-b6c32f3a1e93\">\n",
              "      <button class=\"colab-df-quickchart\" onclick=\"quickchart('df-6ecfc5d2-748a-49df-8253-b6c32f3a1e93')\"\n",
              "                title=\"Suggest charts\"\n",
              "                style=\"display:none;\">\n",
              "\n",
              "<svg xmlns=\"http://www.w3.org/2000/svg\" height=\"24px\"viewBox=\"0 0 24 24\"\n",
              "     width=\"24px\">\n",
              "    <g>\n",
              "        <path d=\"M19 3H5c-1.1 0-2 .9-2 2v14c0 1.1.9 2 2 2h14c1.1 0 2-.9 2-2V5c0-1.1-.9-2-2-2zM9 17H7v-7h2v7zm4 0h-2V7h2v10zm4 0h-2v-4h2v4z\"/>\n",
              "    </g>\n",
              "</svg>\n",
              "      </button>\n",
              "\n",
              "<style>\n",
              "  .colab-df-quickchart {\n",
              "      --bg-color: #E8F0FE;\n",
              "      --fill-color: #1967D2;\n",
              "      --hover-bg-color: #E2EBFA;\n",
              "      --hover-fill-color: #174EA6;\n",
              "      --disabled-fill-color: #AAA;\n",
              "      --disabled-bg-color: #DDD;\n",
              "  }\n",
              "\n",
              "  [theme=dark] .colab-df-quickchart {\n",
              "      --bg-color: #3B4455;\n",
              "      --fill-color: #D2E3FC;\n",
              "      --hover-bg-color: #434B5C;\n",
              "      --hover-fill-color: #FFFFFF;\n",
              "      --disabled-bg-color: #3B4455;\n",
              "      --disabled-fill-color: #666;\n",
              "  }\n",
              "\n",
              "  .colab-df-quickchart {\n",
              "    background-color: var(--bg-color);\n",
              "    border: none;\n",
              "    border-radius: 50%;\n",
              "    cursor: pointer;\n",
              "    display: none;\n",
              "    fill: var(--fill-color);\n",
              "    height: 32px;\n",
              "    padding: 0;\n",
              "    width: 32px;\n",
              "  }\n",
              "\n",
              "  .colab-df-quickchart:hover {\n",
              "    background-color: var(--hover-bg-color);\n",
              "    box-shadow: 0 1px 2px rgba(60, 64, 67, 0.3), 0 1px 3px 1px rgba(60, 64, 67, 0.15);\n",
              "    fill: var(--button-hover-fill-color);\n",
              "  }\n",
              "\n",
              "  .colab-df-quickchart-complete:disabled,\n",
              "  .colab-df-quickchart-complete:disabled:hover {\n",
              "    background-color: var(--disabled-bg-color);\n",
              "    fill: var(--disabled-fill-color);\n",
              "    box-shadow: none;\n",
              "  }\n",
              "\n",
              "  .colab-df-spinner {\n",
              "    border: 2px solid var(--fill-color);\n",
              "    border-color: transparent;\n",
              "    border-bottom-color: var(--fill-color);\n",
              "    animation:\n",
              "      spin 1s steps(1) infinite;\n",
              "  }\n",
              "\n",
              "  @keyframes spin {\n",
              "    0% {\n",
              "      border-color: transparent;\n",
              "      border-bottom-color: var(--fill-color);\n",
              "      border-left-color: var(--fill-color);\n",
              "    }\n",
              "    20% {\n",
              "      border-color: transparent;\n",
              "      border-left-color: var(--fill-color);\n",
              "      border-top-color: var(--fill-color);\n",
              "    }\n",
              "    30% {\n",
              "      border-color: transparent;\n",
              "      border-left-color: var(--fill-color);\n",
              "      border-top-color: var(--fill-color);\n",
              "      border-right-color: var(--fill-color);\n",
              "    }\n",
              "    40% {\n",
              "      border-color: transparent;\n",
              "      border-right-color: var(--fill-color);\n",
              "      border-top-color: var(--fill-color);\n",
              "    }\n",
              "    60% {\n",
              "      border-color: transparent;\n",
              "      border-right-color: var(--fill-color);\n",
              "    }\n",
              "    80% {\n",
              "      border-color: transparent;\n",
              "      border-right-color: var(--fill-color);\n",
              "      border-bottom-color: var(--fill-color);\n",
              "    }\n",
              "    90% {\n",
              "      border-color: transparent;\n",
              "      border-bottom-color: var(--fill-color);\n",
              "    }\n",
              "  }\n",
              "</style>\n",
              "\n",
              "      <script>\n",
              "        async function quickchart(key) {\n",
              "          const quickchartButtonEl =\n",
              "            document.querySelector('#' + key + ' button');\n",
              "          quickchartButtonEl.disabled = true;  // To prevent multiple clicks.\n",
              "          quickchartButtonEl.classList.add('colab-df-spinner');\n",
              "          try {\n",
              "            const charts = await google.colab.kernel.invokeFunction(\n",
              "                'suggestCharts', [key], {});\n",
              "          } catch (error) {\n",
              "            console.error('Error during call to suggestCharts:', error);\n",
              "          }\n",
              "          quickchartButtonEl.classList.remove('colab-df-spinner');\n",
              "          quickchartButtonEl.classList.add('colab-df-quickchart-complete');\n",
              "        }\n",
              "        (() => {\n",
              "          let quickchartButtonEl =\n",
              "            document.querySelector('#df-6ecfc5d2-748a-49df-8253-b6c32f3a1e93 button');\n",
              "          quickchartButtonEl.style.display =\n",
              "            google.colab.kernel.accessAllowed ? 'block' : 'none';\n",
              "        })();\n",
              "      </script>\n",
              "    </div>\n",
              "\n",
              "    </div>\n",
              "  </div>\n"
            ],
            "application/vnd.google.colaboratory.intrinsic+json": {
              "type": "dataframe",
              "variable_name": "baseball",
              "summary": "{\n  \"name\": \"baseball\",\n  \"rows\": 26725,\n  \"fields\": [\n    {\n      \"column\": \"Year\",\n      \"properties\": {\n        \"dtype\": \"number\",\n        \"std\": 3,\n        \"min\": 2006,\n        \"max\": 2016,\n        \"num_unique_values\": 11,\n        \"samples\": [\n          2011,\n          2006,\n          2015\n        ],\n        \"semantic_type\": \"\",\n        \"description\": \"\"\n      }\n    },\n    {\n      \"column\": \"Month\",\n      \"properties\": {\n        \"dtype\": \"number\",\n        \"std\": 1,\n        \"min\": 3,\n        \"max\": 10,\n        \"num_unique_values\": 8,\n        \"samples\": [\n          5,\n          9,\n          4\n        ],\n        \"semantic_type\": \"\",\n        \"description\": \"\"\n      }\n    },\n    {\n      \"column\": \"Day\",\n      \"properties\": {\n        \"dtype\": \"number\",\n        \"std\": 8,\n        \"min\": 1,\n        \"max\": 31,\n        \"num_unique_values\": 31,\n        \"samples\": [\n          29,\n          17,\n          25\n        ],\n        \"semantic_type\": \"\",\n        \"description\": \"\"\n      }\n    },\n    {\n      \"column\": \"day_of_week\",\n      \"properties\": {\n        \"dtype\": \"category\",\n        \"num_unique_values\": 7,\n        \"samples\": [\n          \"Sun\",\n          \"Mon\",\n          \"Fri\"\n        ],\n        \"semantic_type\": \"\",\n        \"description\": \"\"\n      }\n    },\n    {\n      \"column\": \"h_name\",\n      \"properties\": {\n        \"dtype\": \"category\",\n        \"num_unique_values\": 30,\n        \"samples\": [\n          \"ARI\",\n          \"SFN\",\n          \"SLN\"\n        ],\n        \"semantic_type\": \"\",\n        \"description\": \"\"\n      }\n    },\n    {\n      \"column\": \"h_game_number\",\n      \"properties\": {\n        \"dtype\": \"number\",\n        \"std\": 46,\n        \"min\": 1,\n        \"max\": 163,\n        \"num_unique_values\": 163,\n        \"samples\": [\n          136,\n          115,\n          132\n        ],\n        \"semantic_type\": \"\",\n        \"description\": \"\"\n      }\n    },\n    {\n      \"column\": \"h_wins\",\n      \"properties\": {\n        \"dtype\": \"number\",\n        \"std\": 24,\n        \"min\": 0,\n        \"max\": 102,\n        \"num_unique_values\": 103,\n        \"samples\": [\n          30,\n          73,\n          63\n        ],\n        \"semantic_type\": \"\",\n        \"description\": \"\"\n      }\n    },\n    {\n      \"column\": \"v_name\",\n      \"properties\": {\n        \"dtype\": \"category\",\n        \"num_unique_values\": 30,\n        \"samples\": [\n          \"SDN\",\n          \"OAK\",\n          \"TOR\"\n        ],\n        \"semantic_type\": \"\",\n        \"description\": \"\"\n      }\n    },\n    {\n      \"column\": \"v_game_number\",\n      \"properties\": {\n        \"dtype\": \"number\",\n        \"std\": 46,\n        \"min\": 1,\n        \"max\": 163,\n        \"num_unique_values\": 163,\n        \"samples\": [\n          136,\n          116,\n          132\n        ],\n        \"semantic_type\": \"\",\n        \"description\": \"\"\n      }\n    },\n    {\n      \"column\": \"v_wins\",\n      \"properties\": {\n        \"dtype\": \"number\",\n        \"std\": 24,\n        \"min\": 0,\n        \"max\": 102,\n        \"num_unique_values\": 103,\n        \"samples\": [\n          30,\n          62,\n          60\n        ],\n        \"semantic_type\": \"\",\n        \"description\": \"\"\n      }\n    },\n    {\n      \"column\": \"h_score\",\n      \"properties\": {\n        \"dtype\": \"number\",\n        \"std\": 3,\n        \"min\": 0,\n        \"max\": 22,\n        \"num_unique_values\": 23,\n        \"samples\": [\n          18,\n          16,\n          10\n        ],\n        \"semantic_type\": \"\",\n        \"description\": \"\"\n      }\n    },\n    {\n      \"column\": \"v_score\",\n      \"properties\": {\n        \"dtype\": \"number\",\n        \"std\": 3,\n        \"min\": 0,\n        \"max\": 30,\n        \"num_unique_values\": 24,\n        \"samples\": [\n          0,\n          12,\n          4\n        ],\n        \"semantic_type\": \"\",\n        \"description\": \"\"\n      }\n    }\n  ]\n}"
            }
          },
          "metadata": {},
          "execution_count": 133
        }
      ]
    },
    {
      "cell_type": "code",
      "source": [
        "#generate stats\n",
        "#baseball.describe()\n",
        "baseball.info()"
      ],
      "metadata": {
        "colab": {
          "base_uri": "https://localhost:8080/"
        },
        "id": "5WrVTeBVE5at",
        "outputId": "4f4df602-db52-4f7f-934b-02bfc2e12255"
      },
      "execution_count": null,
      "outputs": [
        {
          "output_type": "stream",
          "name": "stdout",
          "text": [
            "<class 'pandas.core.frame.DataFrame'>\n",
            "RangeIndex: 26725 entries, 0 to 26724\n",
            "Data columns (total 12 columns):\n",
            " #   Column         Non-Null Count  Dtype \n",
            "---  ------         --------------  ----- \n",
            " 0   Year           26725 non-null  int64 \n",
            " 1   Month          26725 non-null  int64 \n",
            " 2   Day            26725 non-null  int64 \n",
            " 3   day_of_week    26725 non-null  object\n",
            " 4   h_name         26725 non-null  object\n",
            " 5   h_game_number  26725 non-null  int64 \n",
            " 6   h_wins         26725 non-null  int64 \n",
            " 7   v_name         26725 non-null  object\n",
            " 8   v_game_number  26725 non-null  int64 \n",
            " 9   v_wins         26725 non-null  int64 \n",
            " 10  h_score        26725 non-null  int64 \n",
            " 11  v_score        26725 non-null  int64 \n",
            "dtypes: int64(9), object(3)\n",
            "memory usage: 2.4+ MB\n"
          ]
        }
      ]
    },
    {
      "cell_type": "code",
      "source": [
        "#find numerical variables\n",
        "numerical=list(baseball.select_dtypes(include=['int64','float64']).columns)\n",
        "#find categorical variables\n",
        "categorical = list(baseball.select_dtypes(include=['object']).columns)\n",
        "#separate numerical and categorical variables\n",
        "baseball_numerical = baseball[numerical]\n",
        "baseball_categorical = baseball[categorical]\n",
        "print(\"Numerical columns:\",numerical)\n",
        "print(\"Categorical Columns:\", categorical)"
      ],
      "metadata": {
        "colab": {
          "base_uri": "https://localhost:8080/"
        },
        "id": "rTDqHDJqF1l-",
        "outputId": "f1bab267-6b97-4a51-d4ce-991eff29936a"
      },
      "execution_count": null,
      "outputs": [
        {
          "output_type": "stream",
          "name": "stdout",
          "text": [
            "Numerical columns: ['Year', 'Month', 'Day', 'h_game_number', 'h_wins', 'v_game_number', 'v_wins', 'h_score', 'v_score']\n",
            "Categorical Columns: ['day_of_week', 'h_name', 'v_name']\n"
          ]
        }
      ]
    },
    {
      "cell_type": "code",
      "source": [
        "#create dummies\n",
        "dummies = pd.get_dummies(baseball_categorical, drop_first=True)\n",
        "print(dummies)"
      ],
      "metadata": {
        "colab": {
          "base_uri": "https://localhost:8080/"
        },
        "id": "SPDDfxpMFCzD",
        "outputId": "66c4cc25-7ee1-4d6a-9dbd-5001824f0aa3"
      },
      "execution_count": null,
      "outputs": [
        {
          "output_type": "stream",
          "name": "stdout",
          "text": [
            "       day_of_week_Mon  day_of_week_Sat  day_of_week_Sun  day_of_week_Thu  \\\n",
            "0                False            False             True            False   \n",
            "1                 True            False            False            False   \n",
            "2                 True            False            False            False   \n",
            "3                 True            False            False            False   \n",
            "4                 True            False            False            False   \n",
            "...                ...              ...              ...              ...   \n",
            "26720            False            False             True            False   \n",
            "26721            False            False             True            False   \n",
            "26722            False            False             True            False   \n",
            "26723            False            False             True            False   \n",
            "26724            False            False             True            False   \n",
            "\n",
            "       day_of_week_Tue  day_of_week_Wed  h_name_ARI  h_name_ATL  h_name_BAL  \\\n",
            "0                False            False       False       False       False   \n",
            "1                False            False       False       False        True   \n",
            "2                False            False       False       False       False   \n",
            "3                False            False       False       False       False   \n",
            "4                False            False       False       False       False   \n",
            "...                ...              ...         ...         ...         ...   \n",
            "26720            False            False       False       False       False   \n",
            "26721            False            False       False       False       False   \n",
            "26722            False            False       False       False       False   \n",
            "26723            False            False       False       False       False   \n",
            "26724            False            False       False       False       False   \n",
            "\n",
            "       h_name_BOS  ...  v_name_PHI  v_name_PIT  v_name_SDN  v_name_SEA  \\\n",
            "0           False  ...       False       False       False       False   \n",
            "1           False  ...       False       False       False       False   \n",
            "2           False  ...       False       False       False       False   \n",
            "3           False  ...       False       False       False       False   \n",
            "4           False  ...       False       False       False       False   \n",
            "...           ...  ...         ...         ...         ...         ...   \n",
            "26720       False  ...       False       False       False       False   \n",
            "26721       False  ...       False       False       False       False   \n",
            "26722       False  ...       False       False       False       False   \n",
            "26723       False  ...       False        True       False       False   \n",
            "26724       False  ...       False       False       False       False   \n",
            "\n",
            "       v_name_SFN  v_name_SLN  v_name_TBA  v_name_TEX  v_name_TOR  v_name_WAS  \n",
            "0           False       False       False       False       False       False  \n",
            "1           False       False        True       False       False       False  \n",
            "2           False       False       False       False       False       False  \n",
            "3           False       False       False       False       False       False  \n",
            "4           False       False       False       False       False       False  \n",
            "...           ...         ...         ...         ...         ...         ...  \n",
            "26720       False       False       False       False       False       False  \n",
            "26721       False       False       False       False       False       False  \n",
            "26722       False       False       False       False       False       False  \n",
            "26723       False       False       False       False       False       False  \n",
            "26724       False       False       False       False       False       False  \n",
            "\n",
            "[26725 rows x 64 columns]\n"
          ]
        }
      ]
    },
    {
      "cell_type": "code",
      "source": [
        "# combine numerical and dummies\n",
        "baseball_cleaned = pd.concat([baseball_numerical, dummies], axis=1)\n",
        "#convert columns to a list to select variables to use for our model\n",
        "print(baseball_cleaned.columns.tolist())"
      ],
      "metadata": {
        "colab": {
          "base_uri": "https://localhost:8080/"
        },
        "id": "RmMrI4p7RpKm",
        "outputId": "4db44037-3206-48ca-f05b-232b11442158"
      },
      "execution_count": null,
      "outputs": [
        {
          "output_type": "stream",
          "name": "stdout",
          "text": [
            "['Year', 'Month', 'Day', 'h_game_number', 'h_wins', 'v_game_number', 'v_wins', 'h_score', 'v_score', 'day_of_week_Mon', 'day_of_week_Sat', 'day_of_week_Sun', 'day_of_week_Thu', 'day_of_week_Tue', 'day_of_week_Wed', 'h_name_ARI', 'h_name_ATL', 'h_name_BAL', 'h_name_BOS', 'h_name_CHA', 'h_name_CHN', 'h_name_CIN', 'h_name_CLE', 'h_name_COL', 'h_name_DET', 'h_name_HOU', 'h_name_KCA', 'h_name_LAN', 'h_name_MIA', 'h_name_MIL', 'h_name_MIN', 'h_name_NYA', 'h_name_NYN', 'h_name_OAK', 'h_name_PHI', 'h_name_PIT', 'h_name_SDN', 'h_name_SEA', 'h_name_SFN', 'h_name_SLN', 'h_name_TBA', 'h_name_TEX', 'h_name_TOR', 'h_name_WAS', 'v_name_ARI', 'v_name_ATL', 'v_name_BAL', 'v_name_BOS', 'v_name_CHA', 'v_name_CHN', 'v_name_CIN', 'v_name_CLE', 'v_name_COL', 'v_name_DET', 'v_name_HOU', 'v_name_KCA', 'v_name_LAN', 'v_name_MIA', 'v_name_MIL', 'v_name_MIN', 'v_name_NYA', 'v_name_NYN', 'v_name_OAK', 'v_name_PHI', 'v_name_PIT', 'v_name_SDN', 'v_name_SEA', 'v_name_SFN', 'v_name_SLN', 'v_name_TBA', 'v_name_TEX', 'v_name_TOR', 'v_name_WAS']\n"
          ]
        }
      ]
    },
    {
      "cell_type": "code",
      "source": [
        "#visualize home team score data\n",
        "plt.hist(baseball['v_score'])\n",
        "plt.show()"
      ],
      "metadata": {
        "colab": {
          "base_uri": "https://localhost:8080/",
          "height": 430
        },
        "id": "oa7xSgXIGdqQ",
        "outputId": "3b45a234-31fe-4f3e-a3b8-51f64bac4c7c"
      },
      "execution_count": null,
      "outputs": [
        {
          "output_type": "display_data",
          "data": {
            "text/plain": [
              "<Figure size 640x480 with 1 Axes>"
            ],
            "image/png": "[encoded data removed]"
          },
          "metadata": {}
        }
      ]
    },
    {
      "cell_type": "code",
      "source": [
        "plt.hist(baseball['h_score'])\n",
        "plt.show()"
      ],
      "metadata": {
        "colab": {
          "base_uri": "https://localhost:8080/",
          "height": 430
        },
        "id": "xC-A6q0aHNEi",
        "outputId": "91a079ab-c61d-4e34-d0d4-8abc147665d3"
      },
      "execution_count": null,
      "outputs": [
        {
          "output_type": "display_data",
          "data": {
            "text/plain": [
              "<Figure size 640x480 with 1 Axes>"
            ],
            "image/png": "[encoded data removed]"
          },
          "metadata": {}
        }
      ]
    },
    {
      "cell_type": "code",
      "source": [
        "#let's create a poisson model using H_wins, V_wins, game number, year,day of the week and month of season. These variables likely predict team strength, fatigue/injury accumulation and yearly difference\n",
        "y=baseball_cleaned['h_score']\n",
        "x=baseball_cleaned[['h_wins','v_wins','h_game_number','Day','Month','Year',]]\n",
        "\n",
        "\n",
        "\n",
        "model = PoissonRegressor(max_iter=10000)\n",
        "model.fit(x,y)\n",
        "preds = model.predict(x)\n",
        "np.corrcoef(preds,y)\n",
        "\n"
      ],
      "metadata": {
        "colab": {
          "base_uri": "https://localhost:8080/"
        },
        "id": "xl-lQg8CHLEH",
        "outputId": "74c6a990-4a42-461a-82bf-43e105665e1b"
      },
      "execution_count": null,
      "outputs": [
        {
          "output_type": "execute_result",
          "data": {
            "text/plain": [
              "array([[1.        , 0.09823526],\n",
              "       [0.09823526, 1.        ]])"
            ]
          },
          "metadata": {},
          "execution_count": 122
        }
      ]
    },
    {
      "cell_type": "code",
      "source": [
        "#vizualize\n",
        "plt.scatter(y,preds)\n",
        "plt.xlabel('Actual Home Score')\n",
        "plt.ylabel('Predicted Home Score')\n",
        "plt.title('Poisson Model: Actual vs Predicted Home Score')"
      ],
      "metadata": {
        "colab": {
          "base_uri": "https://localhost:8080/",
          "height": 489
        },
        "id": "uMZCbJxNK3dp",
        "outputId": "00bc97c5-ab2f-4d51-8756-d307f98db448"
      },
      "execution_count": null,
      "outputs": [
        {
          "output_type": "execute_result",
          "data": {
            "text/plain": [
              "Text(0.5, 1.0, 'Poisson Model: Actual vs Predicted Home Score')"
            ]
          },
          "metadata": {},
          "execution_count": 109
        },
        {
          "output_type": "display_data",
          "data": {
            "text/plain": [
              "<Figure size 640x480 with 1 Axes>"
            ],
            "image/png": "[encoded data removed]"
          },
          "metadata": {}
        }
      ]
    },
    {
      "cell_type": "code",
      "source": [
        "#The Poission Model had a very low correlation so we'll try gamma. First, we need to remove zero values\n",
        "baseball_positive=baseball_cleaned[baseball_cleaned['h_score']>0]\n",
        "\n",
        "y2=baseball_positive['h_score']\n",
        "x2=baseball_positive[['h_wins','v_wins','h_game_number','Day','Month','Year']]\n",
        "\n",
        "model = GammaRegressor()\n",
        "model.fit(x2,y2)\n",
        "preds2 = model.predict(x2)\n",
        "np.corrcoef(preds2,y2)\n",
        "\n",
        "# The Gamma model has an even lower correlation coeff, so we'll use Poisson to to predict the scenario"
      ],
      "metadata": {
        "colab": {
          "base_uri": "https://localhost:8080/"
        },
        "id": "ugZAxar4Ozdt",
        "outputId": "aebdd727-f290-468f-edd8-c6fd4211f568"
      },
      "execution_count": null,
      "outputs": [
        {
          "output_type": "execute_result",
          "data": {
            "text/plain": [
              "array([[1.       , 0.0657665],\n",
              "       [0.0657665, 1.       ]])"
            ]
          },
          "metadata": {},
          "execution_count": 121
        }
      ]
    },
    {
      "cell_type": "code",
      "source": [
        "# predict random game from 2017. September 17, 2017 - CIN vs PIT. CIN (home) - 5 PIT - 2\n",
        "\n",
        "x3=pd.DataFrame({'h_wins':[66],'v_wins':[68],'h_game_number':[150],'Day':[0],'Month':[9],'Year':[2017]})\n",
        "preds = model.predict(x3)\n",
        "print(\"The predicted number of home runs using  Poisson model is:\",preds)\n"
      ],
      "metadata": {
        "colab": {
          "base_uri": "https://localhost:8080/"
        },
        "id": "1wrcPwAsVJrL",
        "outputId": "fdff5039-8265-4ae4-d809-ca9fd5c80238"
      },
      "execution_count": null,
      "outputs": [
        {
          "output_type": "stream",
          "name": "stdout",
          "text": [
            "The predicted number of home runs using  Poisson model is: [4.12472177]\n"
          ]
        }
      ]
    },
    {
      "cell_type": "markdown",
      "source": [
        "Using the Poisson prediction model, the expected number of home team runs is 4.12, while the actual was 5 runs.which is about 18% off. This is about 18% off, which performs well for a single-game prediction. Overall the model only correlates about 0.1 to the whole dataset. This suggests the model is limited due to other factors such as individual player injuries, incentives, weather conditions, etc. The model is good for making ballpark estimates but can't be relied on for precise predictions."
      ],
      "metadata": {
        "id": "47C2pfUaZgsW"
      }
    }
  ]
}